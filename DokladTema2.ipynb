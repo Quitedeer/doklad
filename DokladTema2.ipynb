{
 "cells": [
  {
   "cell_type": "markdown",
   "metadata": {},
   "source": [
    "<a href=\"https://colab.research.google.com/github/Quitedeer/doklad/blob/master/DokladTema2.ipynb\"><img align=\"left\" src=\"https://colab.research.google.com/assets/colab-badge.svg\" alt=\"Open in Colab\" title=\"Open and Execute in Google Colaboratory\" target=\"_blank\"></a>"
   ]
  },
  {
   "cell_type": "markdown",
   "metadata": {},
   "source": [
    "# Enum"
   ]
  },
  {
   "cell_type": "markdown",
   "metadata": {},
   "source": [
    "Модуль **enum** определяет перечислимый тип данных с возможностями итерирования и сравнения элементов. Он позволяет создавать символические имена для значений, чтобы не нужно было использовать строковые литералы или целочисленные значения. Модуль **enum** является частью стандартной библиотеки Python 3, поэтому его не нужно отдельно устанавливать."
   ]
  },
  {
   "cell_type": "code",
   "execution_count": 1,
   "metadata": {},
   "outputs": [],
   "source": [
    "from enum import Enum"
   ]
  },
  {
   "cell_type": "markdown",
   "metadata": {},
   "source": [
    "Перечисления создаются с использованием синтаксиса классов. Это упрощает их чтение и написание."
   ]
  },
  {
   "cell_type": "code",
   "execution_count": 2,
   "metadata": {},
   "outputs": [
    {
     "name": "stdout",
     "output_type": "stream",
     "text": [
      "Sequences.list\n",
      "tuple\n",
      "3\n"
     ]
    }
   ],
   "source": [
    "from enum import Enum \n",
    "class Sequences (Enum): \n",
    "    list = 1 \n",
    "    tuple = 2 \n",
    "    dict = 3 \n",
    "print(Sequences.list) \n",
    "print(Sequences.tuple.name) \n",
    "print(Sequences.dict.value)"
   ]
  },
  {
   "cell_type": "markdown",
   "metadata": {},
   "source": [
    "Программист может не прописывать значения элементов, вместо этого он может использовать функцию **auto()**, которая автоматически присваивает элементу значение “1”, а каждому последующему — значение на единицу больше:"
   ]
  },
  {
   "cell_type": "code",
   "execution_count": 3,
   "metadata": {},
   "outputs": [],
   "source": [
    "from enum import Enum, auto \n",
    "class Sequences (Enum): \n",
    "    list = auto() # 1 \n",
    "    tuple = auto() # 1 + 1 = 2 \n",
    "    dict = auto() # 2 + 1 = 3"
   ]
  },
  {
   "cell_type": "markdown",
   "metadata": {},
   "source": [
    "### Итерирование \n",
    "\n",
    "Перечисления — это итерируемые объекты, это значит, что все элементы можно перебрать в цикле."
   ]
  },
  {
   "cell_type": "code",
   "execution_count": 4,
   "metadata": {},
   "outputs": [
    {
     "name": "stdout",
     "output_type": "stream",
     "text": [
      "Num.one\n",
      "Num.two\n",
      "Num.three\n"
     ]
    }
   ],
   "source": [
    "from enum import Enum \n",
    "class Num (Enum): \n",
    "    one = 1 \n",
    "    two = 2 \n",
    "    three = 3 \n",
    "for n in Num: print(n)"
   ]
  },
  {
   "cell_type": "markdown",
   "metadata": {},
   "source": [
    "### Хэшируемость \n",
    "\n",
    "Элементы перечисления хэшируемые. То есть программист может использовать их в словарях и множествах. Вспомним, что хэш позволяет создавать высокопроизводительные структуры, используя хэш-функции для сокращения объема данных."
   ]
  },
  {
   "cell_type": "code",
   "execution_count": 5,
   "metadata": {},
   "outputs": [
    {
     "name": "stdout",
     "output_type": "stream",
     "text": [
      "{<Color.BLUE: 1>: 'blue', <Color.BLACK: 2>: 'black'}\n"
     ]
    }
   ],
   "source": [
    "from enum import Enum \n",
    "class Color(Enum): \n",
    "    BLUE = 1 \n",
    "    BLACK = 2 \n",
    "    BROWN = 3 \n",
    "apples = {} \n",
    "apples[Color.BLUE] = 'blue' \n",
    "apples[Color.BLACK] = 'black' \n",
    "print(apples)"
   ]
  },
  {
   "cell_type": "markdown",
   "metadata": {},
   "source": [
    "Чтобы потребовать уникальность значений перечисления, следует декорировать тип **Enum** декоратором **@unique**."
   ]
  },
  {
   "cell_type": "code",
   "execution_count": 14,
   "metadata": {},
   "outputs": [
    {
     "ename": "ValueError",
     "evalue": "duplicate values found in <enum 'BugStatus'>: by_design -> wont_fix, closed -> fix_released",
     "output_type": "error",
     "traceback": [
      "\u001b[1;31m---------------------------------------------------------------------------\u001b[0m",
      "\u001b[1;31mValueError\u001b[0m                                Traceback (most recent call last)",
      "\u001b[1;32m<ipython-input-14-195470e1b10a>\u001b[0m in \u001b[0;36m<module>\u001b[1;34m\u001b[0m\n\u001b[0;32m      1\u001b[0m \u001b[1;32mfrom\u001b[0m \u001b[0menum\u001b[0m \u001b[1;32mimport\u001b[0m \u001b[0mEnum\u001b[0m\u001b[1;33m,\u001b[0m \u001b[0munique\u001b[0m\u001b[1;33m\u001b[0m\u001b[1;33m\u001b[0m\u001b[0m\n\u001b[0;32m      2\u001b[0m \u001b[1;33m@\u001b[0m\u001b[0munique\u001b[0m\u001b[1;33m\u001b[0m\u001b[1;33m\u001b[0m\u001b[0m\n\u001b[1;32m----> 3\u001b[1;33m \u001b[1;32mclass\u001b[0m \u001b[0mBugStatus\u001b[0m\u001b[1;33m(\u001b[0m\u001b[0mEnum\u001b[0m\u001b[1;33m)\u001b[0m\u001b[1;33m:\u001b[0m\u001b[1;33m\u001b[0m\u001b[1;33m\u001b[0m\u001b[0m\n\u001b[0m\u001b[0;32m      4\u001b[0m     \u001b[0mnew\u001b[0m \u001b[1;33m=\u001b[0m \u001b[1;36m7\u001b[0m\u001b[1;33m\u001b[0m\u001b[1;33m\u001b[0m\u001b[0m\n\u001b[0;32m      5\u001b[0m     \u001b[0mincomplete\u001b[0m \u001b[1;33m=\u001b[0m \u001b[1;36m6\u001b[0m\u001b[1;33m\u001b[0m\u001b[1;33m\u001b[0m\u001b[0m\n",
      "\u001b[1;32m~\\anaconda3\\lib\\enum.py\u001b[0m in \u001b[0;36munique\u001b[1;34m(enumeration)\u001b[0m\n\u001b[0;32m    858\u001b[0m         alias_details = ', '.join(\n\u001b[0;32m    859\u001b[0m                 [\"%s -> %s\" % (alias, name) for (alias, name) in duplicates])\n\u001b[1;32m--> 860\u001b[1;33m         raise ValueError('duplicate values found in %r: %s' %\n\u001b[0m\u001b[0;32m    861\u001b[0m                 (enumeration, alias_details))\n\u001b[0;32m    862\u001b[0m     \u001b[1;32mreturn\u001b[0m \u001b[0menumeration\u001b[0m\u001b[1;33m\u001b[0m\u001b[1;33m\u001b[0m\u001b[0m\n",
      "\u001b[1;31mValueError\u001b[0m: duplicate values found in <enum 'BugStatus'>: by_design -> wont_fix, closed -> fix_released"
     ]
    }
   ],
   "source": [
    "from enum import Enum, unique\n",
    "@unique\n",
    "class BugStatus(Enum): \n",
    "    new = 7 \n",
    "    incomplete = 6 \n",
    "    invalid = 5 \n",
    "    wont_fix = 4 \n",
    "    in_progress = 3 \n",
    "    fix_committed = 2 \n",
    "    fix_released = 1 \n",
    "    # При наличии декоратора unique возбуждается исключение \n",
    "    by_design = 4 \n",
    "    closed = 1"
   ]
  },
  {
   "cell_type": "markdown",
   "metadata": {},
   "source": [
    "При наличии элементов с одинаковыми значениями интерпретатор возбуждает исключение ValueError."
   ]
  },
  {
   "cell_type": "markdown",
   "metadata": {},
   "source": [
    "### Создание методов \n",
    "\n",
    "Программист может полностью вывести элемент перечисления, либо вывести его имя, либо вывести его значение. Для того чтобы упростить это, можно самостоятельно создать в перечислении метод."
   ]
  },
  {
   "cell_type": "code",
   "execution_count": 16,
   "metadata": {},
   "outputs": [
    {
     "name": "stdout",
     "output_type": "stream",
     "text": [
      "Имя - IGOR, значение - 1\n"
     ]
    }
   ],
   "source": [
    "from enum import Enum \n",
    "class Students(Enum): \n",
    "    IGOR = 1 \n",
    "    SERGEY = 2 \n",
    "    VASYA = 3 \n",
    "    def info(self): \n",
    "        print(\"Имя - %s, значение - %s\"%(self.name, self.value)) \n",
    "Students.IGOR.info()"
   ]
  },
  {
   "cell_type": "markdown",
   "metadata": {},
   "source": [
    "# Collections \n",
    "\n",
    "Модуль **collections** содержит специализированные классы контейнеров, альтернативных традиционным **dict, list и tuple**.\n",
    "\n",
    "Класс **Counter** — это контейнер, предназначенный для подсчета числа сохраненных эквивалентных значений. Создаются они с помощью конструктора **collections.Counter()**. Класс Counter поддерживает три формы инициализации. При вызове конструктора ему можно передать последовательность элементов, словарь, содержащий ключи и значения, или именованные аргументы, сопоставляющие строки имен со значениями счетчиков. Все три формы инициализации дают один и тот же результат."
   ]
  },
  {
   "cell_type": "code",
   "execution_count": 20,
   "metadata": {},
   "outputs": [
    {
     "name": "stdout",
     "output_type": "stream",
     "text": [
      "Counter({'b': 3, 'a': 2, 'c': 1})\n",
      "Counter({'b': 3, 'a': 2, 'c': 1})\n",
      "Counter({'b': 3, 'a': 2, 'c': 1})\n"
     ]
    }
   ],
   "source": [
    "import collections \n",
    "print(collections.Counter(['a', 'b', 'c', 'a', 'b', 'b'])) \n",
    "print(collections.Counter({'a': 2, 'b': 3, 'c': 1})) \n",
    "print(collections.Counter(a=2, b=3, c=1))"
   ]
  },
  {
   "cell_type": "markdown",
   "metadata": {},
   "source": [
    "Объект Counter не возбуждает исключения KeyError для неизвестных элементов. Если значение отсутствует во входной строке, то значение его счетчика равно 0."
   ]
  },
  {
   "cell_type": "markdown",
   "metadata": {},
   "source": [
    "Метод **elements()** возвращает итератор, обеспечивающий поочередное извлечение всех элементов, известных экземпляру Counter. Итератор возвращает элементы в произвольном порядке, причем элементы, значения счетчиков которых меньше или равны нулю, игнорируются."
   ]
  },
  {
   "cell_type": "code",
   "execution_count": 21,
   "metadata": {},
   "outputs": [
    {
     "name": "stdout",
     "output_type": "stream",
     "text": [
      "Counter({'e': 3, 'x': 1, 't': 1, 'r': 1, 'm': 1, 'l': 1, 'y': 1, 'z': 0})\n",
      "['e', 'e', 'e', 'x', 't', 'r', 'm', 'l', 'y']\n"
     ]
    }
   ],
   "source": [
    "import collections \n",
    "c = collections.Counter('extremely') \n",
    "c['z'] = 0 \n",
    "print(c)\n",
    "print(list(c.elements()))"
   ]
  },
  {
   "cell_type": "markdown",
   "metadata": {},
   "source": [
    "Для получения последовательности n наиболее часто встречающихся входных значений используется метод **most_common()**."
   ]
  },
  {
   "cell_type": "code",
   "execution_count": 27,
   "metadata": {},
   "outputs": [
    {
     "name": "stdout",
     "output_type": "stream",
     "text": [
      "Most common:\n",
      " :      34\n",
      "e:      20\n",
      "o:      16\n"
     ]
    }
   ],
   "source": [
    "import collections \n",
    "c = collections.Counter() \n",
    "with open('C:/Users/User/ttt/hug.txt', 'rt') as f: \n",
    "    for line in f: \n",
    "        c.update(line.rstrip().lower()) \n",
    "    print('Most common:') \n",
    "    for letter, count in c.most_common(3): \n",
    "        print('{}: {:>7}'.format(letter, count))"
   ]
  },
  {
   "cell_type": "markdown",
   "metadata": {},
   "source": [
    "Экземпляры **Counter** поддерживают арифметические операции и операции над множествами для агрегирования результатов. Следующий пример демонстрирует создание новых экземпляров Counter c помощью стандартных операторов, но поддерживаются также операции, выполняемые на месте c помощью операторов +=, -=, &= и | =. \n",
    "\n",
    "При создании новых объектов Counter посредством выполнения одной из этих операций элементы c нулевыми и отрицательными значениями счетчиков отбрасываются."
   ]
  },
  {
   "cell_type": "code",
   "execution_count": 30,
   "metadata": {},
   "outputs": [
    {
     "name": "stdout",
     "output_type": "stream",
     "text": [
      "C1: Counter({'b': 3, 'a': 2, 'c': 1})\n",
      "C2: Counter({'a': 2, 'l': 1, 'p': 1, 'h': 1, 'b': 1, 'e': 1, 't': 1})\n",
      "\n",
      "Combined counts:\n",
      "Counter({'a': 4, 'b': 4, 'c': 1, 'l': 1, 'p': 1, 'h': 1, 'e': 1, 't': 1})\n",
      "\n",
      "Subtraction:\n",
      "Counter({'b': 2, 'c': 1})\n",
      "\n",
      "Intersection (taking positive minimums):\n",
      "Counter({'a': 2, 'b': 1})\n",
      "\n",
      "Union (taking maximums):\n",
      "Counter({'b': 3, 'a': 2, 'c': 1, 'l': 1, 'p': 1, 'h': 1, 'e': 1, 't': 1})\n"
     ]
    }
   ],
   "source": [
    "import collections \n",
    "c1 = collections.Counter(['a', 'b', 'c', 'a', 'b', 'b']) \n",
    "c2 = collections.Counter('alphabet') \n",
    "print('C1:', c1) \n",
    "print('C2:', c2) \n",
    "print('\\nCombined counts:') \n",
    "print(c1 + c2) \n",
    "print('\\nSubtraction:') \n",
    "print(c1 - c2) \n",
    "print('\\nIntersection (taking positive minimums):') \n",
    "print(c1 & c2) \n",
    "print('\\nUnion (taking maximums):') \n",
    "print(c1 | c2)"
   ]
  },
  {
   "cell_type": "markdown",
   "metadata": {},
   "source": [
    "### Словарь со значением по умолчанию - defaultdict\n",
    "\n",
    "Что будет, если обратиться к словарю по ключу, которого в нем ещё нет? Верно, исключение KeyError"
   ]
  },
  {
   "cell_type": "code",
   "execution_count": 35,
   "metadata": {},
   "outputs": [
    {
     "ename": "KeyError",
     "evalue": "'patronymic'",
     "output_type": "error",
     "traceback": [
      "\u001b[1;31m---------------------------------------------------------------------------\u001b[0m",
      "\u001b[1;31mKeyError\u001b[0m                                  Traceback (most recent call last)",
      "\u001b[1;32m<ipython-input-35-1b397059434c>\u001b[0m in \u001b[0;36m<module>\u001b[1;34m\u001b[0m\n\u001b[0;32m      2\u001b[0m \u001b[0md\u001b[0m\u001b[1;33m[\u001b[0m\u001b[1;34m'name'\u001b[0m\u001b[1;33m]\u001b[0m \u001b[1;33m=\u001b[0m \u001b[1;34m'James'\u001b[0m\u001b[1;33m\u001b[0m\u001b[1;33m\u001b[0m\u001b[0m\n\u001b[0;32m      3\u001b[0m \u001b[0md\u001b[0m\u001b[1;33m[\u001b[0m\u001b[1;34m'surname'\u001b[0m\u001b[1;33m]\u001b[0m \u001b[1;33m=\u001b[0m \u001b[1;34m'Bond'\u001b[0m\u001b[1;33m\u001b[0m\u001b[1;33m\u001b[0m\u001b[0m\n\u001b[1;32m----> 4\u001b[1;33m \u001b[0md\u001b[0m\u001b[1;33m[\u001b[0m\u001b[1;34m'patronymic'\u001b[0m\u001b[1;33m]\u001b[0m\u001b[1;33m\u001b[0m\u001b[1;33m\u001b[0m\u001b[0m\n\u001b[0m\u001b[0;32m      5\u001b[0m \u001b[0md\u001b[0m\u001b[1;33m\u001b[0m\u001b[1;33m\u001b[0m\u001b[0m\n",
      "\u001b[1;31mKeyError\u001b[0m: 'patronymic'"
     ]
    }
   ],
   "source": [
    "d = dict() \n",
    "d['name'] = 'James' \n",
    "d['surname'] = 'Bond' \n",
    "d['patronymic']\n",
    "d"
   ]
  },
  {
   "cell_type": "markdown",
   "metadata": {},
   "source": [
    "В данном случае достаточно использовать альтернативный вариант словаря – collections.defaultdict. Соответствующему конструктору в качестве аргумента передается тип элемента по умолчанию:"
   ]
  },
  {
   "cell_type": "code",
   "execution_count": 32,
   "metadata": {},
   "outputs": [
    {
     "data": {
      "text/plain": [
       "defaultdict(str, {'name': 'James', 'surname': 'Bond', 'patronymic': ''})"
      ]
     },
     "execution_count": 32,
     "metadata": {},
     "output_type": "execute_result"
    }
   ],
   "source": [
    "d = collections.defaultdict(str) \n",
    "d['name'] = 'James' \n",
    "d['surname'] = 'Bond' \n",
    "d['patronymic'] \n",
    "d"
   ]
  },
  {
   "cell_type": "markdown",
   "metadata": {},
   "source": [
    "Обычные словари имеют метод **setdefault()**, который позволяет добиться того же результата, но его использование делает программный код менее наглядным и замедляет исполнение.\n",
    "\n",
    "Помимо **str** и **int, defaultdict** часто используют в связке с пустым списком, чтобы начинать добавление элементов без лишнего кода:"
   ]
  },
  {
   "cell_type": "code",
   "execution_count": 37,
   "metadata": {},
   "outputs": [
    {
     "data": {
      "text/plain": [
       "defaultdict(list, {0: [0], 1: [1], 2: [2], 3: [3], 4: [4]})"
      ]
     },
     "execution_count": 37,
     "metadata": {},
     "output_type": "execute_result"
    }
   ],
   "source": [
    "dict_of_lists = collections.defaultdict(list) \n",
    "for i in range(5): \n",
    "    dict_of_lists[i].append(i) \n",
    "    ... \n",
    "dict_of_lists"
   ]
  },
  {
   "cell_type": "markdown",
   "metadata": {},
   "source": [
    "### Словарь с памятью порядка добавления элементов OrderedDict\n",
    "\n",
    "Класс **OrderedDict** — это подкласс словаря, запоминающий порядок добавления содержимого. Так как OrderedDict это упорядоченная последовательность, объекты содержат соответствующие методы, реорганизующие структуру: \n",
    "1. popitem(last=True) – удаляет последний элемент если last=True, и первый, если last=False "
   ]
  },
  {
   "cell_type": "code",
   "execution_count": 45,
   "metadata": {},
   "outputs": [
    {
     "data": {
      "text/plain": [
       "'abcd'"
      ]
     },
     "execution_count": 45,
     "metadata": {},
     "output_type": "execute_result"
    }
   ],
   "source": [
    "d = collections.OrderedDict.fromkeys('abcde') \n",
    "d.popitem(last=True) \n",
    "''.join(d.keys())"
   ]
  },
  {
   "cell_type": "code",
   "execution_count": 48,
   "metadata": {},
   "outputs": [
    {
     "data": {
      "text/plain": [
       "'bcde'"
      ]
     },
     "execution_count": 48,
     "metadata": {},
     "output_type": "execute_result"
    }
   ],
   "source": [
    "d = collections.OrderedDict.fromkeys('abcde') \n",
    "d.popitem(last=False) \n",
    "''.join(d.keys())"
   ]
  },
  {
   "cell_type": "markdown",
   "metadata": {},
   "source": [
    "2. move_to_end(key, last=True) – переносит ключ key в конец, если last=True, и в начало, если last=False"
   ]
  },
  {
   "cell_type": "code",
   "execution_count": 50,
   "metadata": {},
   "outputs": [
    {
     "data": {
      "text/plain": [
       "'acdeb'"
      ]
     },
     "execution_count": 50,
     "metadata": {},
     "output_type": "execute_result"
    }
   ],
   "source": [
    "d = collections.OrderedDict.fromkeys('abcde') \n",
    "d.move_to_end('b', last=True) \n",
    "''.join(d.keys())"
   ]
  },
  {
   "cell_type": "code",
   "execution_count": 47,
   "metadata": {},
   "outputs": [
    {
     "data": {
      "text/plain": [
       "'bacde'"
      ]
     },
     "execution_count": 47,
     "metadata": {},
     "output_type": "execute_result"
    }
   ],
   "source": [
    "d = collections.OrderedDict.fromkeys('abcde') \n",
    "d.move_to_end('b', last=False) \n",
    "''.join(d.keys())"
   ]
  },
  {
   "cell_type": "markdown",
   "metadata": {},
   "source": [
    "### Контейнер словарей ChainMap\n",
    "\n",
    "После разговора о словарях самое время обсудить класс, умеющий объединять словари в надструктуру – **ChainMap**. При этом получается не один общий словарь, а их совокупность, в которой каждый словарь остаётся независимой составляющей:"
   ]
  },
  {
   "cell_type": "code",
   "execution_count": 51,
   "metadata": {},
   "outputs": [
    {
     "data": {
      "text/plain": [
       "ChainMap({'a': 1, 'b': 2}, {'a': 1, 'b': 0, 'c': 0, 'd': 0, 'e': 1})"
      ]
     },
     "execution_count": 51,
     "metadata": {},
     "output_type": "execute_result"
    }
   ],
   "source": [
    "letters = {'a':1, 'b':2} \n",
    "vowels = {'a':1, 'b':0, 'c':0, 'd': 0, 'e':1} \n",
    "chain = collections.ChainMap(letters, vowels) \n",
    "chain"
   ]
  },
  {
   "cell_type": "markdown",
   "metadata": {},
   "source": [
    "При обращении к **ChainMap** по ключу одного из словарей, происходит поиск значения среди всех словарей, при этом нет необходимости указывать конкретный словарь:"
   ]
  },
  {
   "cell_type": "code",
   "execution_count": 52,
   "metadata": {},
   "outputs": [
    {
     "data": {
      "text/plain": [
       "1"
      ]
     },
     "execution_count": 52,
     "metadata": {},
     "output_type": "execute_result"
    }
   ],
   "source": [
    "chain['e']"
   ]
  },
  {
   "cell_type": "markdown",
   "metadata": {},
   "source": [
    "При поиске **ChainMap** выводит первое найденное значение (проходя словари по очереди добавления). В том числе если в словарях несколько одинаковых ключей:"
   ]
  },
  {
   "cell_type": "code",
   "execution_count": 53,
   "metadata": {},
   "outputs": [
    {
     "data": {
      "text/plain": [
       "2"
      ]
     },
     "execution_count": 53,
     "metadata": {},
     "output_type": "execute_result"
    }
   ],
   "source": [
    "chain['b']"
   ]
  },
  {
   "cell_type": "markdown",
   "metadata": {},
   "source": [
    "Изменение содержания словаря изменяет и ChainMap. Нет необходимости перезаписывать надструктуру:"
   ]
  },
  {
   "cell_type": "code",
   "execution_count": 54,
   "metadata": {},
   "outputs": [
    {
     "data": {
      "text/plain": [
       "ChainMap({'a': 1, 'b': 2, 'c': 3}, {'a': 1, 'b': 0, 'c': 0, 'd': 0, 'e': 1})"
      ]
     },
     "execution_count": 54,
     "metadata": {},
     "output_type": "execute_result"
    }
   ],
   "source": [
    "letters['c'] = 3 \n",
    "chain"
   ]
  },
  {
   "cell_type": "markdown",
   "metadata": {},
   "source": [
    "Так как **ChainMap** это комбинация словарей, у неё есть методы **keys()** и **values()**."
   ]
  },
  {
   "cell_type": "code",
   "execution_count": 57,
   "metadata": {},
   "outputs": [
    {
     "data": {
      "text/plain": [
       "['a', 'b', 'c', 'd', 'e']"
      ]
     },
     "execution_count": 57,
     "metadata": {},
     "output_type": "execute_result"
    }
   ],
   "source": [
    "list(chain.keys())"
   ]
  },
  {
   "cell_type": "code",
   "execution_count": 56,
   "metadata": {},
   "outputs": [
    {
     "data": {
      "text/plain": [
       "[1, 2, 3, 0, 1]"
      ]
     },
     "execution_count": 56,
     "metadata": {},
     "output_type": "execute_result"
    }
   ],
   "source": [
    "list(chain.values())"
   ]
  },
  {
   "cell_type": "markdown",
   "metadata": {},
   "source": [
    "При необходимости расширить составленный ранее **ChainMap** можно методом **new_child()**. Обратите внимание, что метод не обновляет старую структуру, а создаёт новую."
   ]
  },
  {
   "cell_type": "code",
   "execution_count": 58,
   "metadata": {},
   "outputs": [
    {
     "data": {
      "text/plain": [
       "ChainMap({'a': 0, 'b': 1, 'c': 1}, {'a': 1, 'b': 2, 'c': 3}, {'a': 1, 'b': 0, 'c': 0, 'd': 0, 'e': 1})"
      ]
     },
     "execution_count": 58,
     "metadata": {},
     "output_type": "execute_result"
    }
   ],
   "source": [
    "consons = {'a':0, 'b':1, 'c':1} \n",
    "chain.new_child(consons)"
   ]
  },
  {
   "cell_type": "markdown",
   "metadata": {},
   "source": [
    "### Двусторонняя очередь deque\n",
    "\n",
    "Объект типа **deque** является усовершенствованным вариантом списка с оптимизированной вставкой/удалением элементов с обоих концов. Реализация **deque** оптимизирована так, что операции слева и справа имеют примерно одинаковую производительность. Добавление новых элементов в конец происходит не сильно медленнее, чем во встроенных списках, но добавление в начало выполняется существенно быстрее."
   ]
  },
  {
   "cell_type": "code",
   "execution_count": 59,
   "metadata": {},
   "outputs": [
    {
     "data": {
      "text/plain": [
       "deque(['b', 'c', 'd'])"
      ]
     },
     "execution_count": 59,
     "metadata": {},
     "output_type": "execute_result"
    }
   ],
   "source": [
    "seq = list(\"bcd\") \n",
    "deq = collections.deque(seq) \n",
    "deq"
   ]
  },
  {
   "cell_type": "code",
   "execution_count": 60,
   "metadata": {},
   "outputs": [
    {
     "data": {
      "text/plain": [
       "deque(['a', 'b', 'c', 'd', 'e'])"
      ]
     },
     "execution_count": 60,
     "metadata": {},
     "output_type": "execute_result"
    }
   ],
   "source": [
    "deq.append('e') # добавление в конец\n",
    "deq.appendleft('a') # добавление в начало (левый конец) \n",
    "deq"
   ]
  },
  {
   "cell_type": "markdown",
   "metadata": {},
   "source": [
    "Аналогично методу **append()** метод **pop()** для **deque** работает с обоих концов:"
   ]
  },
  {
   "cell_type": "code",
   "execution_count": 61,
   "metadata": {},
   "outputs": [
    {
     "data": {
      "text/plain": [
       "deque(['b', 'c', 'd'])"
      ]
     },
     "execution_count": 61,
     "metadata": {},
     "output_type": "execute_result"
    }
   ],
   "source": [
    "deq.pop() \n",
    "deq.popleft() \n",
    "deq"
   ]
  },
  {
   "cell_type": "markdown",
   "metadata": {},
   "source": [
    "Если нужно посчитать число вхождений элемента в последовательность, применяем метод **count()**:"
   ]
  },
  {
   "cell_type": "code",
   "execution_count": 62,
   "metadata": {},
   "outputs": [
    {
     "data": {
      "text/plain": [
       "(1, 0)"
      ]
     },
     "execution_count": 62,
     "metadata": {},
     "output_type": "execute_result"
    }
   ],
   "source": [
    "deq.count('b'), deq.count('a')"
   ]
  },
  {
   "cell_type": "markdown",
   "metadata": {},
   "source": [
    "Кроме перечисленных, доступны следующие методы:\n",
    "\n",
    "1. **remove(value)** – удаление первого вхождения value\n",
    "\n",
    "2. **reverse()** – разворачивает очередь\n",
    "\n",
    "3. **rotate(n=1)** – последовательно переносит n элементов из начала в конец (если n отрицательно, то с конца в начало). В этом поведение deque напоминает кольцевой связный список."
   ]
  },
  {
   "cell_type": "markdown",
   "metadata": {},
   "source": [
    "### Именованный кортеж и функция namedtuple()\n",
    "\n",
    "**namedtuple()** – функция-фабрика для создания именованных кортежей. Этот тип данных похож на **struct** в других языках программирования:"
   ]
  },
  {
   "cell_type": "code",
   "execution_count": 63,
   "metadata": {},
   "outputs": [
    {
     "data": {
      "text/plain": [
       "User(fname='Петр', pname='Иванович', lname='Сидоров', age=30)"
      ]
     },
     "execution_count": 63,
     "metadata": {},
     "output_type": "execute_result"
    }
   ],
   "source": [
    "cols = ['fname', 'pname', 'lname', 'age'] \n",
    "User = collections.namedtuple('User', cols) \n",
    "user1 = User('Петр', 'Иванович', 'Сидоров', 30) \n",
    "user1"
   ]
  },
  {
   "cell_type": "code",
   "execution_count": 64,
   "metadata": {},
   "outputs": [
    {
     "data": {
      "text/plain": [
       "'Сидоров'"
      ]
     },
     "execution_count": 64,
     "metadata": {},
     "output_type": "execute_result"
    }
   ],
   "source": [
    "user1.lname"
   ]
  },
  {
   "cell_type": "code",
   "execution_count": 65,
   "metadata": {},
   "outputs": [
    {
     "data": {
      "text/plain": [
       "25"
      ]
     },
     "execution_count": 65,
     "metadata": {},
     "output_type": "execute_result"
    }
   ],
   "source": [
    "Point = collections.namedtuple('Point', ['x', 'y']) \n",
    "p = Point(3, 4) \n",
    "p.x**2 + p.y**2"
   ]
  },
  {
   "cell_type": "markdown",
   "metadata": {},
   "source": [
    "Именованные кортежи делают код яснее – вместо индексирования составляющие объекта вызываются по явным именам. Остаётся доступной и численная индексация:"
   ]
  },
  {
   "cell_type": "code",
   "execution_count": 66,
   "metadata": {},
   "outputs": [
    {
     "data": {
      "text/plain": [
       "25"
      ]
     },
     "execution_count": 66,
     "metadata": {},
     "output_type": "execute_result"
    }
   ],
   "source": [
    "p[0]**2 + p[1]**2"
   ]
  },
  {
   "cell_type": "markdown",
   "metadata": {},
   "source": [
    "Структура **namedtuple** похожа на словарь. Посредством метода **_asdict** можно представить те же данные в виде **OrderedDict**:"
   ]
  },
  {
   "cell_type": "code",
   "execution_count": 67,
   "metadata": {},
   "outputs": [
    {
     "data": {
      "text/plain": [
       "{'x': 3, 'y': 4}"
      ]
     },
     "execution_count": 67,
     "metadata": {},
     "output_type": "execute_result"
    }
   ],
   "source": [
    "p._asdict()"
   ]
  },
  {
   "cell_type": "markdown",
   "metadata": {},
   "source": [
    "Чтобы вызвать значение через строковый ключ, необязательно преобразовывать **namedtuple** – подходит стандартная функция **getattr()**:"
   ]
  },
  {
   "cell_type": "code",
   "execution_count": 68,
   "metadata": {},
   "outputs": [
    {
     "data": {
      "text/plain": [
       "3"
      ]
     },
     "execution_count": 68,
     "metadata": {},
     "output_type": "execute_result"
    }
   ],
   "source": [
    "getattr(p, 'x')"
   ]
  },
  {
   "cell_type": "markdown",
   "metadata": {},
   "source": [
    "Чтобы преобразовать словарь в именованный кортеж заданного типа, достаточно распаковать его оператором **:"
   ]
  },
  {
   "cell_type": "code",
   "execution_count": 69,
   "metadata": {},
   "outputs": [
    {
     "data": {
      "text/plain": [
       "Point(x=0, y=1)"
      ]
     },
     "execution_count": 69,
     "metadata": {},
     "output_type": "execute_result"
    }
   ],
   "source": [
    "d = {'x': 0, 'y': 1} \n",
    "Point(**d)"
   ]
  },
  {
   "cell_type": "markdown",
   "metadata": {},
   "source": [
    "Имена полей **namedtuple** перечислены в **_fields**:"
   ]
  },
  {
   "cell_type": "code",
   "execution_count": 70,
   "metadata": {},
   "outputs": [
    {
     "data": {
      "text/plain": [
       "(('fname', 'pname', 'lname', 'age'), ('x', 'y'))"
      ]
     },
     "execution_count": 70,
     "metadata": {},
     "output_type": "execute_result"
    }
   ],
   "source": [
    "user1._fields, p._fields"
   ]
  },
  {
   "cell_type": "markdown",
   "metadata": {},
   "source": [
    "Поскольку именованный кортеж является обычным классом **Python**, в него легко привнести новую функциональность или изменить старую. Например, добавим к **Point** расчёт гипотенузы и формат вывода данных:"
   ]
  },
  {
   "cell_type": "code",
   "execution_count": 71,
   "metadata": {},
   "outputs": [
    {
     "name": "stdout",
     "output_type": "stream",
     "text": [
      "Point: x= 3.000 y= 4.000 hypot= 5.000\n",
      "Point: x=14.000 y= 0.714 hypot=14.018\n"
     ]
    }
   ],
   "source": [
    "class Point(collections.namedtuple('Point', ['x', 'y'])): \n",
    "    __slots__ = () # предотвращает создание словарей экземпляров \n",
    "    @property \n",
    "    def hypot(self): \n",
    "        return (self.x**2 + self.y**2) ** 0.5 \n",
    "    def __str__(self): \n",
    "        return 'Point: x=%6.3f y=%6.3f hypot=%6.3f' % (self.x, self.y, self.hypot) \n",
    "for p in Point(3, 4), Point(14, 5/7): \n",
    "    print(p)"
   ]
  },
  {
   "cell_type": "markdown",
   "metadata": {},
   "source": [
    "# Array\n",
    "\n",
    "Модуль **array** определяет линейную структуру данных, которая во многом напоминает список, за исключением того, что все члены этого списка должны относиться к одному и тому же элементарному типу. К поддерживаемым типам относятся все числовые и другие элементарные типы, такие как байты.\n",
    "\n",
    "Некоторые из поддерживаемых типов приведены в таблице. Полный список кодов типов можно найти в документации стандартной библиотеки."
   ]
  },
  {
   "cell_type": "markdown",
   "metadata": {},
   "source": [
    "![title](https://sun9-15.userapi.com/impf/9PAqg3f4-s8HXEAWfmY-HOcQzlRnEBHiAVuuYw/xuUQ2qnGcpc.jpg?size=0x0&quality=90&proxy=1&sign=1276c85013f0932dc9655b1ddcd02660)"
   ]
  },
  {
   "cell_type": "markdown",
   "metadata": {},
   "source": [
    "В этом примере массив сконфигурирован для хранения последовательности байтов и инициализируется простой байтовой строкой."
   ]
  },
  {
   "cell_type": "code",
   "execution_count": 72,
   "metadata": {},
   "outputs": [
    {
     "name": "stdout",
     "output_type": "stream",
     "text": [
      "As byte string: b'This is the array.'\n",
      "As array : array('b', [84, 104, 105, 115, 32, 105, 115, 32, 116, 104, 101, 32, 97, 114, 114, 97, 121, 46])\n",
      "As hex : b'54686973206973207468652061727261792e'\n"
     ]
    }
   ],
   "source": [
    "import array \n",
    "import binascii \n",
    "s = b'This is the array.' \n",
    "a = array.array('b', s) \n",
    "print('As byte string:', s) \n",
    "print('As array :', a) \n",
    "print('As hex :', binascii.hexlify(a))"
   ]
  },
  {
   "cell_type": "markdown",
   "metadata": {},
   "source": [
    "### Манипулирование массивами \n",
    "К массивам применимы те же способы расширения и выполнения различных манипуляций, которые используются по отношению к другим последовательностям **Python**."
   ]
  },
  {
   "cell_type": "code",
   "execution_count": 114,
   "metadata": {},
   "outputs": [
    {
     "name": "stdout",
     "output_type": "stream",
     "text": [
      "Initial:  array('i', [0, 1, 2])\n",
      "Extended:  array('i', [0, 1, 2, 0, 1, 2])\n",
      "Slice:  array('i', [2, 0, 1])\n",
      "Iterator: \n",
      "[(0, 0), (1, 1), (2, 2), (3, 0), (4, 1), (5, 2)]\n"
     ]
    }
   ],
   "source": [
    "import array\n",
    "import pprint\n",
    "\n",
    "a = array.array('i', range(3))\n",
    "\n",
    "print('Initial: ', a)\n",
    "\n",
    "a.extend(range(3))\n",
    "print('Extended: ', a)\n",
    "\n",
    "print('Slice: ', a[2:5])\n",
    "\n",
    "print('Iterator: ')\n",
    "print(list(enumerate(a)))"
   ]
  },
  {
   "cell_type": "markdown",
   "metadata": {},
   "source": [
    "К поддерживаемым операциям относятся выделение срезов, итерирование и добавление элементов в конец массива."
   ]
  },
  {
   "cell_type": "markdown",
   "metadata": {},
   "source": [
    "Метод **tofile()** использует метод **tobytes()** для форматирования данных, а метод **fromfile()** использует метод **frombytes()** для их обратного преобразования в экземпляр массива."
   ]
  },
  {
   "cell_type": "code",
   "execution_count": 113,
   "metadata": {},
   "outputs": [
    {
     "name": "stdout",
     "output_type": "stream",
     "text": [
      "A1: array('i', [0, 1, 2, 3, 4])\n",
      "Bytes: b'0000000001000000020000000300000004000000'\n",
      "A2: array('i', [0, 1, 2, 3, 4])\n"
     ]
    }
   ],
   "source": [
    "import array\n",
    "import binascii\n",
    "a = array.array('i', range(5))\n",
    "print('A1:', a)\n",
    "\n",
    "as_bytes = a.tobytes()\n",
    "print('Bytes:', binascii.hexlify(as_bytes))\n",
    "\n",
    "a2 = array.array('i')\n",
    "a2.frombytes(as_bytes)\n",
    "print('A2:', a2)"
   ]
  },
  {
   "cell_type": "markdown",
   "metadata": {},
   "source": [
    "Оба метода, **tobytes()** и frombytes (), работают c байтовыми строками, а не со строками Unicode."
   ]
  },
  {
   "cell_type": "markdown",
   "metadata": {},
   "source": [
    "# Задания"
   ]
  },
  {
   "cell_type": "markdown",
   "metadata": {},
   "source": [
    "### Задание 1\n",
    "\n",
    "С помощью одного из класса модуля Collections, напишите код, который выводит данную строку: 'g': 3, 'f': 3, 'q': 2, 'h': 1"
   ]
  },
  {
   "cell_type": "code",
   "execution_count": null,
   "metadata": {},
   "outputs": [],
   "source": [
    "import collections"
   ]
  },
  {
   "cell_type": "markdown",
   "metadata": {},
   "source": [
    "### Задание 2\n",
    "\n",
    "С помощью одного из класса модуля Collections, напишите код, в котором будет удаляться последний элемент: 'dream'"
   ]
  },
  {
   "cell_type": "code",
   "execution_count": null,
   "metadata": {},
   "outputs": [],
   "source": [
    "import collections"
   ]
  },
  {
   "cell_type": "markdown",
   "metadata": {},
   "source": [
    "### Задание 3\n",
    "\n",
    "С помощью deque добавьте во встроенный список символ 'q'"
   ]
  },
  {
   "cell_type": "code",
   "execution_count": null,
   "metadata": {},
   "outputs": [],
   "source": [
    "a = list(\"zxc\")"
   ]
  }
 ],
 "metadata": {
  "kernelspec": {
   "display_name": "Python 3",
   "language": "python",
   "name": "python3"
  },
  "language_info": {
   "codemirror_mode": {
    "name": "ipython",
    "version": 3
   },
   "file_extension": ".py",
   "mimetype": "text/x-python",
   "name": "python",
   "nbconvert_exporter": "python",
   "pygments_lexer": "ipython3",
   "version": "3.8.3"
  }
 },
 "nbformat": 4,
 "nbformat_minor": 4
}
